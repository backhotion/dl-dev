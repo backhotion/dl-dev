{
 "cells": [
  {
   "cell_type": "code",
   "execution_count": 1,
   "metadata": {},
   "outputs": [],
   "source": [
    "import win32com.client\n",
    "import pandas as pd\n",
    "import numpy as np\n",
    "import datetime as dt\n",
    "# from glob import glob\n",
    "import time"
   ]
  },
  {
   "cell_type": "code",
   "execution_count": 2,
   "metadata": {},
   "outputs": [
    {
     "name": "stdout",
     "output_type": "stream",
     "text": [
      "1\n"
     ]
    }
   ],
   "source": [
    "# 대신증권 API 연결 확인. 1 출력시 연결 성공, 0 출력시 연결 실패\n",
    "instCpCybos = win32com.client.Dispatch('CpUtil.CpCybos')\n",
    "print(instCpCybos.IsConnect)"
   ]
  },
  {
   "cell_type": "code",
   "execution_count": 3,
   "metadata": {},
   "outputs": [
    {
     "name": "stdout",
     "output_type": "stream",
     "text": [
      "3963\n"
     ]
    }
   ],
   "source": [
    "# 증권시장에서 상장되어 있는 종목의 갯수 출력 -> 새로운 종목이 상장되거나 폐지됨에 따라 값이 달라진다.\n",
    "instCpStockCode = win32com.client.Dispatch(\"CpUtil.CpStockCode\")\n",
    "print(instCpStockCode.GetCount())"
   ]
  },
  {
   "cell_type": "code",
   "execution_count": 4,
   "metadata": {},
   "outputs": [],
   "source": [
    "# 0 -> 종목코드 : 요청할 종목의 종목 코드\n",
    "# 1 -> 요청구분 : 1은 기간으로 요청, 2는 갯수로 요청\n",
    "# 2 -> 요청 종료일 : YYYYMMDD 형식\n",
    "# 3 -> 요청 시작일 : YYYYMMDD 형식\n",
    "# 4 -> 요청개수 : 요청할 데이터의 개수\n",
    "# 5 -> 필드 = 0: 날짜, 1:시간, 2:시가, 3: 고가, 4: 저가, 5: 종가, 6: 전일대비, 8: 거래량, 9: 거래대금, 10: 누적체결매도수량\n",
    "#             11: 누적체결매수수량, 12: 상장주식수, 13: 시가총액, 14: 외국인주문한도수량, 15: 외국인주문가능수량, 16: 외국인현보유수량\n",
    "#             17: 외국인현보유비율, 18: 수정주가일자, 19: 수정주가비율, 20: 기관순매수, 21: 기관누적순매수, 22: 등락주선, 23: 등락비율\n",
    "#             24: 예탁금, 25: 주식회전율, 26: 거래성립률, 27: 대비부호\n",
    "# 6 -> 차트 구분 = D: 일, W: 주, m: 분, T: 틱\n",
    "# 9 -> 수정주가 = 0: 무수정주가, 1: 수정주가"
   ]
  },
  {
   "attachments": {},
   "cell_type": "markdown",
   "metadata": {},
   "source": [
    "## 데이터 수집"
   ]
  },
  {
   "cell_type": "code",
   "execution_count": 5,
   "metadata": {},
   "outputs": [
    {
     "data": {
      "text/html": [
       "<div>\n",
       "<style scoped>\n",
       "    .dataframe tbody tr th:only-of-type {\n",
       "        vertical-align: middle;\n",
       "    }\n",
       "\n",
       "    .dataframe tbody tr th {\n",
       "        vertical-align: top;\n",
       "    }\n",
       "\n",
       "    .dataframe thead th {\n",
       "        text-align: right;\n",
       "    }\n",
       "</style>\n",
       "<table border=\"1\" class=\"dataframe\">\n",
       "  <thead>\n",
       "    <tr style=\"text-align: right;\">\n",
       "      <th></th>\n",
       "      <th>종목코드</th>\n",
       "      <th>종목명</th>\n",
       "    </tr>\n",
       "  </thead>\n",
       "  <tbody>\n",
       "    <tr>\n",
       "      <th>0</th>\n",
       "      <td>A000020</td>\n",
       "      <td>동화약품</td>\n",
       "    </tr>\n",
       "    <tr>\n",
       "      <th>1</th>\n",
       "      <td>A000040</td>\n",
       "      <td>KR모터스</td>\n",
       "    </tr>\n",
       "    <tr>\n",
       "      <th>2</th>\n",
       "      <td>A000050</td>\n",
       "      <td>경방</td>\n",
       "    </tr>\n",
       "    <tr>\n",
       "      <th>3</th>\n",
       "      <td>A000070</td>\n",
       "      <td>삼양홀딩스</td>\n",
       "    </tr>\n",
       "    <tr>\n",
       "      <th>4</th>\n",
       "      <td>A000075</td>\n",
       "      <td>삼양홀딩스우</td>\n",
       "    </tr>\n",
       "    <tr>\n",
       "      <th>...</th>\n",
       "      <td>...</td>\n",
       "      <td>...</td>\n",
       "    </tr>\n",
       "    <tr>\n",
       "      <th>3958</th>\n",
       "      <td>J52J712</td>\n",
       "      <td>미래J712케이티지콜</td>\n",
       "    </tr>\n",
       "    <tr>\n",
       "      <th>3959</th>\n",
       "      <td>J52J713</td>\n",
       "      <td>미래J713케이티지콜</td>\n",
       "    </tr>\n",
       "    <tr>\n",
       "      <th>3960</th>\n",
       "      <td>J52J714</td>\n",
       "      <td>미래J714케이티지콜</td>\n",
       "    </tr>\n",
       "    <tr>\n",
       "      <th>3961</th>\n",
       "      <td>J52J715</td>\n",
       "      <td>미래J715현대상선콜</td>\n",
       "    </tr>\n",
       "    <tr>\n",
       "      <th>3962</th>\n",
       "      <td>J52J717</td>\n",
       "      <td>미래J717현대상선콜</td>\n",
       "    </tr>\n",
       "  </tbody>\n",
       "</table>\n",
       "<p>3963 rows × 2 columns</p>\n",
       "</div>"
      ],
      "text/plain": [
       "         종목코드          종목명\n",
       "0     A000020         동화약품\n",
       "1     A000040        KR모터스\n",
       "2     A000050           경방\n",
       "3     A000070        삼양홀딩스\n",
       "4     A000075       삼양홀딩스우\n",
       "...       ...          ...\n",
       "3958  J52J712  미래J712케이티지콜\n",
       "3959  J52J713  미래J713케이티지콜\n",
       "3960  J52J714  미래J714케이티지콜\n",
       "3961  J52J715  미래J715현대상선콜\n",
       "3962  J52J717  미래J717현대상선콜\n",
       "\n",
       "[3963 rows x 2 columns]"
      ]
     },
     "execution_count": 5,
     "metadata": {},
     "output_type": "execute_result"
    }
   ],
   "source": [
    "code = [] # 종목코드\n",
    "name = [] # 종목명\n",
    "\n",
    "for i in range(0, instCpStockCode.GetCount()):\n",
    "    code.append(instCpStockCode.GetData(0, i))\n",
    "    name.append(instCpStockCode.GetData(1, i))\n",
    "\n",
    "codeNameList = pd.DataFrame({\n",
    "      '종목코드':code\n",
    "    , '종목명':name\n",
    "})\n",
    "codeNameList"
   ]
  },
  {
   "cell_type": "code",
   "execution_count": 6,
   "metadata": {},
   "outputs": [
    {
     "data": {
      "text/html": [
       "<div>\n",
       "<style scoped>\n",
       "    .dataframe tbody tr th:only-of-type {\n",
       "        vertical-align: middle;\n",
       "    }\n",
       "\n",
       "    .dataframe tbody tr th {\n",
       "        vertical-align: top;\n",
       "    }\n",
       "\n",
       "    .dataframe thead th {\n",
       "        text-align: right;\n",
       "    }\n",
       "</style>\n",
       "<table border=\"1\" class=\"dataframe\">\n",
       "  <thead>\n",
       "    <tr style=\"text-align: right;\">\n",
       "      <th></th>\n",
       "      <th>종목코드</th>\n",
       "      <th>종목명</th>\n",
       "    </tr>\n",
       "  </thead>\n",
       "  <tbody>\n",
       "    <tr>\n",
       "      <th>1600</th>\n",
       "      <td>A095910</td>\n",
       "      <td>에스에너지</td>\n",
       "    </tr>\n",
       "  </tbody>\n",
       "</table>\n",
       "</div>"
      ],
      "text/plain": [
       "         종목코드    종목명\n",
       "1600  A095910  에스에너지"
      ]
     },
     "execution_count": 6,
     "metadata": {},
     "output_type": "execute_result"
    }
   ],
   "source": [
    "codeNameList[codeNameList['종목명'] == '에스에너지']"
   ]
  },
  {
   "cell_type": "code",
   "execution_count": 7,
   "metadata": {},
   "outputs": [
    {
     "data": {
      "text/html": [
       "<div>\n",
       "<style scoped>\n",
       "    .dataframe tbody tr th:only-of-type {\n",
       "        vertical-align: middle;\n",
       "    }\n",
       "\n",
       "    .dataframe tbody tr th {\n",
       "        vertical-align: top;\n",
       "    }\n",
       "\n",
       "    .dataframe thead th {\n",
       "        text-align: right;\n",
       "    }\n",
       "</style>\n",
       "<table border=\"1\" class=\"dataframe\">\n",
       "  <thead>\n",
       "    <tr style=\"text-align: right;\">\n",
       "      <th></th>\n",
       "      <th>종목코드</th>\n",
       "      <th>종목명</th>\n",
       "    </tr>\n",
       "  </thead>\n",
       "  <tbody>\n",
       "    <tr>\n",
       "      <th>1421</th>\n",
       "      <td>A079970</td>\n",
       "      <td>투비소프트</td>\n",
       "    </tr>\n",
       "    <tr>\n",
       "      <th>1721</th>\n",
       "      <td>A108860</td>\n",
       "      <td>셀바스AI</td>\n",
       "    </tr>\n",
       "    <tr>\n",
       "      <th>2763</th>\n",
       "      <td>A300080</td>\n",
       "      <td>플리토</td>\n",
       "    </tr>\n",
       "    <tr>\n",
       "      <th>2958</th>\n",
       "      <td>A338220</td>\n",
       "      <td>뷰노</td>\n",
       "    </tr>\n",
       "    <tr>\n",
       "      <th>2979</th>\n",
       "      <td>A347860</td>\n",
       "      <td>알체라</td>\n",
       "    </tr>\n",
       "  </tbody>\n",
       "</table>\n",
       "</div>"
      ],
      "text/plain": [
       "         종목코드    종목명\n",
       "1421  A079970  투비소프트\n",
       "1721  A108860  셀바스AI\n",
       "2763  A300080    플리토\n",
       "2958  A338220     뷰노\n",
       "2979  A347860    알체라"
      ]
     },
     "execution_count": 7,
     "metadata": {},
     "output_type": "execute_result"
    }
   ],
   "source": [
    "stock_list = ['셀바스AI', '투비소프트', '플리토','뷰노','알체라']\n",
    "hj_stock_list = codeNameList[codeNameList['종목명'].isin(stock_list)]\n",
    "hj_stock_list"
   ]
  },
  {
   "cell_type": "code",
   "execution_count": 8,
   "metadata": {},
   "outputs": [],
   "source": [
    "instStockChart = win32com.client.Dispatch(\"CpSysDib.StockChart\")"
   ]
  },
  {
   "cell_type": "code",
   "execution_count": 9,
   "metadata": {},
   "outputs": [],
   "source": [
    "def getjusik(jusikCode, jusikName, start, end, dataDf):\n",
    "    code = [] # 종목코드\n",
    "    name = [] # 종목명\n",
    "    c0 = []   # 날짜\n",
    "    c1 = []   # 시간\n",
    "    c2 = []   # 시가\n",
    "    c3 = []   # 고가\n",
    "    c4 = []   # 저가\n",
    "    c5 = []   # 종가\n",
    "    c6 = []   # 전일대비\n",
    "    c8 = []   # 거래량\n",
    "    c9 = []   # 거래대금\n",
    "    c10 = []  # 누적체결매도수량\n",
    "    c11 = []  # 누적체결매수수량\n",
    "    c12 = []  # 상장주식수\n",
    "    c13 = []  # 시가총액\n",
    "    c14 = []  # 외국인주문한도수량\n",
    "    c15 = []  # 외국인주문가능수량\n",
    "    c16 = []  # 외국인현보유수량\n",
    "    c17 = []  # 외국인현보유비율\n",
    "    c18 = []  # 수정주가일자\n",
    "    c19 = []  # 수정주가비율\n",
    "    c20 = []  # 기관순매수량\n",
    "    c21 = []  # 기관누적순매수량\n",
    "    c22 = []  # 등락주선\n",
    "    c23 = []  # 등락비율\n",
    "    c24 = []  # 예탁금\n",
    "    c25 = []  # 주식회전율\n",
    "\n",
    "    instStockChart.SetInputValue(0, jusikCode)\n",
    "    instStockChart.SetInputValue(1, ord('1'))\n",
    "    instStockChart.SetInputValue(2, end)\n",
    "    instStockChart.SetInputValue(3, start)\n",
    "    instStockChart.SetInputValue(4, 2000)\n",
    "    instStockChart.SetInputValue(5, (0,1,2,3,4,5,6,8,9,10,11,12,13,14,15,16,17,18,19,20,21,22,23,24,25))\n",
    "    instStockChart.SetInputValue(6, ord('m'))\n",
    "    instStockChart.SetInputValue(9, ord('1'))\n",
    "\n",
    "    instStockChart.BlockRequest()\n",
    "\n",
    "    numData = instStockChart.GetHeaderValue(3)\n",
    "                                                            \n",
    "    for i in range(numData):\n",
    "        code.append(jusikCode)\n",
    "        name.append(jusikName)\n",
    "        c0.append(str(instStockChart.GetDataValue(0, i)))\n",
    "        c1.append(str(instStockChart.GetDataValue(1, i)))\n",
    "        c2.append(instStockChart.GetDataValue(2, i))\n",
    "        c3.append(instStockChart.GetDataValue(3, i))\n",
    "        c4.append(instStockChart.GetDataValue(4, i))\n",
    "        c5.append(instStockChart.GetDataValue(5, i))\n",
    "        c6.append(instStockChart.GetDataValue(6, i))\n",
    "        c8.append(instStockChart.GetDataValue(7, i))\n",
    "        c9.append(instStockChart.GetDataValue(8, i))\n",
    "        c10.append(instStockChart.GetDataValue(9, i))\n",
    "        c11.append(instStockChart.GetDataValue(10, i))\n",
    "        c12.append(instStockChart.GetDataValue(11, i))\n",
    "        c13.append(instStockChart.GetDataValue(12, i))\n",
    "        c14.append(instStockChart.GetDataValue(13, i))\n",
    "        c15.append(instStockChart.GetDataValue(14, i))\n",
    "        c16.append(instStockChart.GetDataValue(15, i))\n",
    "        c17.append(instStockChart.GetDataValue(16, i))\n",
    "        c18.append(str(instStockChart.GetDataValue(17, i)))\n",
    "        c19.append(instStockChart.GetDataValue(18, i))\n",
    "        c20.append(instStockChart.GetDataValue(19, i))\n",
    "        c21.append(instStockChart.GetDataValue(20, i))\n",
    "        c22.append(instStockChart.GetDataValue(21, i))\n",
    "        c23.append(instStockChart.GetDataValue(22, i))\n",
    "        c24.append(instStockChart.GetDataValue(23, i))\n",
    "        c25.append(instStockChart.GetDataValue(24, i))\n",
    "\n",
    "    dataDf['종목코드'] = code\n",
    "    dataDf['종목명'] = name\n",
    "    dataDf['날짜'] = c0\n",
    "    dataDf['시간'] = c1\n",
    "    dataDf['시가'] = c2\n",
    "    dataDf['고가'] = c3\n",
    "    dataDf['저가'] = c4\n",
    "    dataDf['종가'] = c5\n",
    "    dataDf['전일대비'] = c6\n",
    "    dataDf['거래량'] = c8\n",
    "    dataDf['거래대금'] = c9\n",
    "    dataDf['누적체결매도수량'] = c10\n",
    "    dataDf['누적체결매수수량'] = c11\n",
    "    dataDf['상장주식수'] = c12\n",
    "    dataDf['시가총액'] = c13\n",
    "    dataDf['외국인주문한도수량'] = c14\n",
    "    dataDf['외국인주문가능수량'] = c15\n",
    "    dataDf['외국인현보유수량'] = c16\n",
    "    dataDf['외국인현보유비율'] = c17\n",
    "    dataDf['수정주가일자'] = c18\n",
    "    dataDf['수정주가비율'] = c19\n",
    "    dataDf['기관순매수량'] = c20\n",
    "    dataDf['기관누적순매수량'] = c21\n",
    "    dataDf['등락주선'] = c22\n",
    "    dataDf['등락비율'] = c23\n",
    "    dataDf['예탁금'] = c24\n",
    "    dataDf['주식회전율'] = c25"
   ]
  },
  {
   "cell_type": "code",
   "execution_count": 11,
   "metadata": {},
   "outputs": [
    {
     "name": "stdout",
     "output_type": "stream",
     "text": [
      "투비소프트 종목의 주식시세 데이터 요청 수신성공 및 csv로 저장 성공!\n",
      "셀바스AI 종목의 주식시세 데이터 요청 수신성공 및 csv로 저장 성공!\n",
      "플리토 종목의 주식시세 데이터 요청 수신성공 및 csv로 저장 성공!\n",
      "뷰노 종목의 주식시세 데이터 요청 수신성공 및 csv로 저장 성공!\n",
      "알체라 종목의 주식시세 데이터 요청 수신성공 및 csv로 저장 성공!\n",
      "수신요청 종료\n"
     ]
    }
   ],
   "source": [
    "a = dt.datetime(2023,6,21)\n",
    "b = dt.datetime.now()\n",
    "#a = dt.datetime(2022,1,1)\n",
    "#b = dt.datetime(2022,12,31)\n",
    "number = b-a\n",
    "stock_list = [1421,1721,2763,2958,2979]\n",
    "\n",
    "for j in stock_list:\n",
    "    frame = []\n",
    "    for i in range(0, number.days, 2):\n",
    "        dataDf = pd.DataFrame()\n",
    "        c = a + dt.timedelta(days=i)\n",
    "        d = a + dt.timedelta(days=i+1)\n",
    "        getjusik(codeNameList['종목코드'].iloc[j], codeNameList['종목명'].iloc[j], c.strftime('%Y%m%d'), d.strftime('%Y%m%d'), dataDf)\n",
    "        frame.append(dataDf)\n",
    "        time.sleep(0.3)\n",
    "    hapdata = pd.concat(frame)\n",
    "    hapdata.to_csv('./'+codeNameList['종목명'].iloc[j]+' 주식 데이터.csv', encoding='euc-kr', index=False)\n",
    "    print(codeNameList['종목명'].iloc[j]+' 종목의 주식시세 데이터 요청 수신성공 및 csv로 저장 성공!')\n",
    "\n",
    "print('수신요청 종료')\n",
    "# frame"
   ]
  }
 ],
 "metadata": {
  "kernelspec": {
   "display_name": "dl-dev-gpu",
   "language": "python",
   "name": "python3"
  },
  "language_info": {
   "codemirror_mode": {
    "name": "ipython",
    "version": 3
   },
   "file_extension": ".py",
   "mimetype": "text/x-python",
   "name": "python",
   "nbconvert_exporter": "python",
   "pygments_lexer": "ipython3",
   "version": "3.10.4"
  },
  "orig_nbformat": 4
 },
 "nbformat": 4,
 "nbformat_minor": 2
}
