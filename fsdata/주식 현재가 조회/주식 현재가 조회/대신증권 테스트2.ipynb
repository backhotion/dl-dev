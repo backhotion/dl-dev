{
 "cells": [
  {
   "cell_type": "code",
   "execution_count": 1,
   "metadata": {},
   "outputs": [],
   "source": [
    "import win32com.client\n",
    "import pandas as pd\n",
    "import numpy as np\n",
    "import datetime as dt\n",
    "import time"
   ]
  },
  {
   "cell_type": "code",
   "execution_count": 2,
   "metadata": {},
   "outputs": [
    {
     "name": "stdout",
     "output_type": "stream",
     "text": [
      "1\n"
     ]
    }
   ],
   "source": [
    "# 대신증권 API 연결 확인. 1 출력시 연결 성공, 0 출력시 연결 실패\n",
    "instCpCybos = win32com.client.Dispatch('CpUtil.CpCybos')\n",
    "print(instCpCybos.IsConnect)"
   ]
  },
  {
   "cell_type": "code",
   "execution_count": 3,
   "metadata": {},
   "outputs": [
    {
     "name": "stdout",
     "output_type": "stream",
     "text": [
      "3963\n"
     ]
    }
   ],
   "source": [
    "# 증권시장에서 상장되어 있는 종목의 갯수 출력 -> 새로운 종목이 상장되거나 폐지됨에 따라 값이 달라진다.\n",
    "instCpStockCode = win32com.client.Dispatch('CpUtil.CpStockCode')\n",
    "print(instCpStockCode.GetCount())"
   ]
  },
  {
   "attachments": {},
   "cell_type": "markdown",
   "metadata": {},
   "source": [
    "## 데이터 수집"
   ]
  },
  {
   "cell_type": "code",
   "execution_count": 4,
   "metadata": {},
   "outputs": [
    {
     "data": {
      "text/html": [
       "<div>\n",
       "<style scoped>\n",
       "    .dataframe tbody tr th:only-of-type {\n",
       "        vertical-align: middle;\n",
       "    }\n",
       "\n",
       "    .dataframe tbody tr th {\n",
       "        vertical-align: top;\n",
       "    }\n",
       "\n",
       "    .dataframe thead th {\n",
       "        text-align: right;\n",
       "    }\n",
       "</style>\n",
       "<table border=\"1\" class=\"dataframe\">\n",
       "  <thead>\n",
       "    <tr style=\"text-align: right;\">\n",
       "      <th></th>\n",
       "      <th>종목코드</th>\n",
       "      <th>종목명</th>\n",
       "    </tr>\n",
       "  </thead>\n",
       "  <tbody>\n",
       "    <tr>\n",
       "      <th>0</th>\n",
       "      <td>A000020</td>\n",
       "      <td>동화약품</td>\n",
       "    </tr>\n",
       "    <tr>\n",
       "      <th>1</th>\n",
       "      <td>A000040</td>\n",
       "      <td>KR모터스</td>\n",
       "    </tr>\n",
       "    <tr>\n",
       "      <th>2</th>\n",
       "      <td>A000050</td>\n",
       "      <td>경방</td>\n",
       "    </tr>\n",
       "    <tr>\n",
       "      <th>3</th>\n",
       "      <td>A000070</td>\n",
       "      <td>삼양홀딩스</td>\n",
       "    </tr>\n",
       "    <tr>\n",
       "      <th>4</th>\n",
       "      <td>A000075</td>\n",
       "      <td>삼양홀딩스우</td>\n",
       "    </tr>\n",
       "    <tr>\n",
       "      <th>...</th>\n",
       "      <td>...</td>\n",
       "      <td>...</td>\n",
       "    </tr>\n",
       "    <tr>\n",
       "      <th>3958</th>\n",
       "      <td>J52J712</td>\n",
       "      <td>미래J712케이티지콜</td>\n",
       "    </tr>\n",
       "    <tr>\n",
       "      <th>3959</th>\n",
       "      <td>J52J713</td>\n",
       "      <td>미래J713케이티지콜</td>\n",
       "    </tr>\n",
       "    <tr>\n",
       "      <th>3960</th>\n",
       "      <td>J52J714</td>\n",
       "      <td>미래J714케이티지콜</td>\n",
       "    </tr>\n",
       "    <tr>\n",
       "      <th>3961</th>\n",
       "      <td>J52J715</td>\n",
       "      <td>미래J715현대상선콜</td>\n",
       "    </tr>\n",
       "    <tr>\n",
       "      <th>3962</th>\n",
       "      <td>J52J717</td>\n",
       "      <td>미래J717현대상선콜</td>\n",
       "    </tr>\n",
       "  </tbody>\n",
       "</table>\n",
       "<p>3963 rows × 2 columns</p>\n",
       "</div>"
      ],
      "text/plain": [
       "         종목코드          종목명\n",
       "0     A000020         동화약품\n",
       "1     A000040        KR모터스\n",
       "2     A000050           경방\n",
       "3     A000070        삼양홀딩스\n",
       "4     A000075       삼양홀딩스우\n",
       "...       ...          ...\n",
       "3958  J52J712  미래J712케이티지콜\n",
       "3959  J52J713  미래J713케이티지콜\n",
       "3960  J52J714  미래J714케이티지콜\n",
       "3961  J52J715  미래J715현대상선콜\n",
       "3962  J52J717  미래J717현대상선콜\n",
       "\n",
       "[3963 rows x 2 columns]"
      ]
     },
     "execution_count": 4,
     "metadata": {},
     "output_type": "execute_result"
    }
   ],
   "source": [
    "# 대신증권 기준으로 정렬된 상장된(주식거래가 가능한) 종목을 전부 가져오기\n",
    "\n",
    "code = [] # 종목코드\n",
    "name = [] # 종목명\n",
    "\n",
    "for i in range(0, instCpStockCode.GetCount()):\n",
    "    code.append(instCpStockCode.GetData(0, i))\n",
    "    name.append(instCpStockCode.GetData(1, i))\n",
    "\n",
    "codeNameList = pd.DataFrame({\n",
    "      '종목코드':code\n",
    "    , '종목명':name\n",
    "})\n",
    "codeNameList"
   ]
  },
  {
   "cell_type": "code",
   "execution_count": 5,
   "metadata": {},
   "outputs": [
    {
     "data": {
      "text/html": [
       "<div>\n",
       "<style scoped>\n",
       "    .dataframe tbody tr th:only-of-type {\n",
       "        vertical-align: middle;\n",
       "    }\n",
       "\n",
       "    .dataframe tbody tr th {\n",
       "        vertical-align: top;\n",
       "    }\n",
       "\n",
       "    .dataframe thead th {\n",
       "        text-align: right;\n",
       "    }\n",
       "</style>\n",
       "<table border=\"1\" class=\"dataframe\">\n",
       "  <thead>\n",
       "    <tr style=\"text-align: right;\">\n",
       "      <th></th>\n",
       "      <th>종목코드</th>\n",
       "      <th>종목명</th>\n",
       "    </tr>\n",
       "  </thead>\n",
       "  <tbody>\n",
       "    <tr>\n",
       "      <th>0</th>\n",
       "      <td>A108860</td>\n",
       "      <td>셀바스AI</td>\n",
       "    </tr>\n",
       "    <tr>\n",
       "      <th>1</th>\n",
       "      <td>A079970</td>\n",
       "      <td>투비소프트</td>\n",
       "    </tr>\n",
       "    <tr>\n",
       "      <th>2</th>\n",
       "      <td>A300080</td>\n",
       "      <td>플리토</td>\n",
       "    </tr>\n",
       "    <tr>\n",
       "      <th>3</th>\n",
       "      <td>A338220</td>\n",
       "      <td>뷰노</td>\n",
       "    </tr>\n",
       "    <tr>\n",
       "      <th>4</th>\n",
       "      <td>A347860</td>\n",
       "      <td>알체라</td>\n",
       "    </tr>\n",
       "  </tbody>\n",
       "</table>\n",
       "</div>"
      ],
      "text/plain": [
       "      종목코드    종목명\n",
       "0  A108860  셀바스AI\n",
       "1  A079970  투비소프트\n",
       "2  A300080    플리토\n",
       "3  A338220     뷰노\n",
       "4  A347860    알체라"
      ]
     },
     "execution_count": 5,
     "metadata": {},
     "output_type": "execute_result"
    }
   ],
   "source": [
    "# 사용자가 원하는 종목의 종목 코드만 데이터프레임으로 출력\n",
    "\n",
    "jongmokSearchList = ['셀바스AI', '투비소프트', '플리토','뷰노','알체라'] # 여기에 원하는 종목명 입력\n",
    "jongmokSearchCode = []\n",
    "jongmokSearchName = []\n",
    "\n",
    "for jName in jongmokSearchList:\n",
    "    jongmokSearchCode.append(codeNameList[codeNameList['종목명'] == jName]['종목코드'].iloc[0])\n",
    "    jongmokSearchName.append(codeNameList[codeNameList['종목명'] == jName]['종목명'].iloc[0])\n",
    "\n",
    "jongmokSearchResult = pd.DataFrame({\n",
    "      '종목코드':jongmokSearchCode\n",
    "    , '종목명':jongmokSearchName\n",
    "})\n",
    "jongmokSearchResult"
   ]
  },
  {
   "cell_type": "code",
   "execution_count": 6,
   "metadata": {},
   "outputs": [],
   "source": [
    "instStockChart = win32com.client.Dispatch('CpSysDib.CpSvr7254')"
   ]
  },
  {
   "cell_type": "code",
   "execution_count": 7,
   "metadata": {},
   "outputs": [
    {
     "name": "stdout",
     "output_type": "stream",
     "text": [
      "데이터 개수 : 17\n"
     ]
    },
    {
     "data": {
      "text/html": [
       "<div>\n",
       "<style scoped>\n",
       "    .dataframe tbody tr th:only-of-type {\n",
       "        vertical-align: middle;\n",
       "    }\n",
       "\n",
       "    .dataframe tbody tr th {\n",
       "        vertical-align: top;\n",
       "    }\n",
       "\n",
       "    .dataframe thead th {\n",
       "        text-align: right;\n",
       "    }\n",
       "</style>\n",
       "<table border=\"1\" class=\"dataframe\">\n",
       "  <thead>\n",
       "    <tr style=\"text-align: right;\">\n",
       "      <th></th>\n",
       "      <th>종목코드</th>\n",
       "      <th>종목명</th>\n",
       "      <th>날짜</th>\n",
       "      <th>개인</th>\n",
       "      <th>외국인</th>\n",
       "      <th>기관계</th>\n",
       "      <th>금융투자</th>\n",
       "      <th>보험</th>\n",
       "      <th>투신</th>\n",
       "      <th>은행</th>\n",
       "      <th>기타금융</th>\n",
       "      <th>연기금</th>\n",
       "      <th>기타법인</th>\n",
       "      <th>기타외인</th>\n",
       "      <th>사모펀드</th>\n",
       "      <th>국가지자체</th>\n",
       "    </tr>\n",
       "  </thead>\n",
       "  <tbody>\n",
       "    <tr>\n",
       "      <th>0</th>\n",
       "      <td>A108860</td>\n",
       "      <td>셀바스AI</td>\n",
       "      <td>20230113</td>\n",
       "      <td>-69037</td>\n",
       "      <td>85051</td>\n",
       "      <td>-9774</td>\n",
       "      <td>41</td>\n",
       "      <td>-14485</td>\n",
       "      <td>0</td>\n",
       "      <td>4670</td>\n",
       "      <td>0</td>\n",
       "      <td>0</td>\n",
       "      <td>-7802</td>\n",
       "      <td>1556</td>\n",
       "      <td>0</td>\n",
       "      <td>0</td>\n",
       "    </tr>\n",
       "  </tbody>\n",
       "</table>\n",
       "</div>"
      ],
      "text/plain": [
       "      종목코드    종목명        날짜     개인    외국인   기관계  금융투자     보험  투신    은행  기타금융  \\\n",
       "0  A108860  셀바스AI  20230113 -69037  85051 -9774    41 -14485   0  4670     0   \n",
       "\n",
       "   연기금  기타법인  기타외인  사모펀드  국가지자체  \n",
       "0    0 -7802  1556     0      0  "
      ]
     },
     "execution_count": 7,
     "metadata": {},
     "output_type": "execute_result"
    }
   ],
   "source": [
    "Listed = {}\n",
    "pdListed = []\n",
    "\n",
    "instStockChart.SetInputValue(0, 'A108860')\n",
    "instStockChart.SetInputValue(1, 0)\n",
    "instStockChart.SetInputValue(2, '20230101')\n",
    "instStockChart.SetInputValue(3, '20230201')\n",
    "instStockChart.SetInputValue(4, ord('0'))\n",
    "instStockChart.SetInputValue(5, 0)\n",
    "instStockChart.SetInputValue(6, ord('1'))\n",
    "\n",
    "instStockChart.BlockRequest()\n",
    "\n",
    "num = instStockChart.GetHeaderValue(1)\n",
    "print('데이터 개수 : '+str(num))\n",
    "\n",
    "Listed['종목코드'] = jongmokSearchResult['종목코드'].iloc[0]# 종목코드\n",
    "Listed['종목명'] = jongmokSearchResult['종목명'].iloc[0]    # 종목명\n",
    "Listed['날짜'] = instStockChart.GetDataValue(0, 11)        # 날짜\n",
    "Listed['개인'] = instStockChart.GetDataValue(1, 16)        # 개인\n",
    "Listed['외국인'] = instStockChart.GetDataValue(2, 16)      # 외국인\n",
    "Listed['기관계'] = instStockChart.GetDataValue(3, 16)      # 기관계\n",
    "Listed['금융투자'] = instStockChart.GetDataValue(4, 16)    # 금융투자\n",
    "Listed['보험'] = instStockChart.GetDataValue(5, 16)        # 보험\n",
    "Listed['투신'] = instStockChart.GetDataValue(6, 16)        # 투신\n",
    "Listed['은행'] = instStockChart.GetDataValue(7, 16)        # 은행\n",
    "Listed['기타금융'] = instStockChart.GetDataValue(8, 16)    # 기타금융\n",
    "Listed['연기금'] = instStockChart.GetDataValue(9, 16)      # 연기금\n",
    "Listed['기타법인'] = instStockChart.GetDataValue(10, 16)   # 기타법인\n",
    "Listed['기타외인'] = instStockChart.GetDataValue(11, 16)   # 기타외인\n",
    "Listed['사모펀드'] = instStockChart.GetDataValue(12, 16)   # 사모펀드\n",
    "Listed['국가지자체'] = instStockChart.GetDataValue(13, 16) # 국가지자체\n",
    "\n",
    "pdListed.append(Listed)\n",
    "\n",
    "dataDf1 = pd.DataFrame(pdListed)\n",
    "\n",
    "dataDf1"
   ]
  },
  {
   "cell_type": "code",
   "execution_count": 8,
   "metadata": {},
   "outputs": [],
   "source": [
    "def getjusik(jusikCode, jusikName, start, end):\n",
    "    pdListed = []\n",
    "\n",
    "    instStockChart.SetInputValue(0, jusikCode)\n",
    "    instStockChart.SetInputValue(1, 0)\n",
    "    instStockChart.SetInputValue(2, start)\n",
    "    instStockChart.SetInputValue(3, end)\n",
    "    instStockChart.SetInputValue(4, ord('0'))\n",
    "    instStockChart.SetInputValue(5, 0)\n",
    "    instStockChart.SetInputValue(6, ord('1'))\n",
    "\n",
    "    instStockChart.BlockRequest()\n",
    "\n",
    "    num = instStockChart.GetHeaderValue(1)\n",
    "                                                            \n",
    "    for i in range(num):\n",
    "        Listed = {}\n",
    "        Listed['종목코드'] = jusikCode                             # 종목코드\n",
    "        Listed['종목명'] = jusikName                               # 종목명\n",
    "        Listed['날짜'] = instStockChart.GetDataValue(0, i)        # 날짜\n",
    "        Listed['개인'] = instStockChart.GetDataValue(1, i)        # 개인\n",
    "        Listed['외국인'] = instStockChart.GetDataValue(2, i)      # 외국인\n",
    "        Listed['기관계'] = instStockChart.GetDataValue(3, i)      # 기관계\n",
    "        Listed['금융투자'] = instStockChart.GetDataValue(4, i)    # 금융투자\n",
    "        Listed['보험'] = instStockChart.GetDataValue(5, i)        # 보험\n",
    "        Listed['투신'] = instStockChart.GetDataValue(6, i)        # 투신\n",
    "        Listed['은행'] = instStockChart.GetDataValue(7, i)        # 은행\n",
    "        Listed['기타금융'] = instStockChart.GetDataValue(8, i)    # 기타금융\n",
    "        Listed['연기금'] = instStockChart.GetDataValue(9, i)      # 연기금\n",
    "        Listed['기타법인'] = instStockChart.GetDataValue(10, i)   # 기타법인\n",
    "        Listed['기타외인'] = instStockChart.GetDataValue(11, i)   # 기타외인\n",
    "        Listed['사모펀드'] = instStockChart.GetDataValue(12, i)   # 사모펀드\n",
    "\n",
    "        pdListed.append(Listed)\n",
    "\n",
    "    dataDf = pd.DataFrame(pdListed)\n",
    "    return dataDf"
   ]
  },
  {
   "cell_type": "code",
   "execution_count": 10,
   "metadata": {},
   "outputs": [
    {
     "name": "stdout",
     "output_type": "stream",
     "text": [
      "셀바스AI 종목의 투자주체별 데이터 요청 수신성공 및 csv로 저장 성공!\n",
      "투비소프트 종목의 투자주체별 데이터 요청 수신성공 및 csv로 저장 성공!\n",
      "플리토 종목의 투자주체별 데이터 요청 수신성공 및 csv로 저장 성공!\n",
      "뷰노 종목의 투자주체별 데이터 요청 수신성공 및 csv로 저장 성공!\n",
      "알체라 종목의 투자주체별 데이터 요청 수신성공 및 csv로 저장 성공!\n",
      "수신요청 종료\n"
     ]
    }
   ],
   "source": [
    "a = dt.datetime(2023,6,21)\n",
    "b = dt.datetime.now()\n",
    "number = b-a\n",
    "\n",
    "for j in range(0, jongmokSearchResult.shape[0]):\n",
    "    frame = []\n",
    "    for i in range(0, number.days, 2):\n",
    "        c = a + dt.timedelta(days=i)\n",
    "        d = a + dt.timedelta(days=i+1)\n",
    "        result = getjusik(jongmokSearchResult['종목코드'].iloc[j], jongmokSearchResult['종목명'].iloc[j], c.strftime('%Y%m%d'), d.strftime('%Y%m%d'))\n",
    "        frame.append(result)\n",
    "        time.sleep(0.3)\n",
    "    hapdata = pd.concat(frame)\n",
    "    hapdata.to_csv('../주식 현재가 조회/'+jongmokSearchResult['종목명'].iloc[j]+' 주식 데이터(투자주체별).csv', encoding='euc-kr', index=False)\n",
    "    print(jongmokSearchResult['종목명'].iloc[j]+' 종목의 투자주체별 데이터 요청 수신성공 및 csv로 저장 성공!')\n",
    "\n",
    "print('수신요청 종료')"
   ]
  }
 ],
 "metadata": {
  "kernelspec": {
   "display_name": "dl-dev-gpu",
   "language": "python",
   "name": "python3"
  },
  "language_info": {
   "codemirror_mode": {
    "name": "ipython",
    "version": 3
   },
   "file_extension": ".py",
   "mimetype": "text/x-python",
   "name": "python",
   "nbconvert_exporter": "python",
   "pygments_lexer": "ipython3",
   "version": "3.10.4"
  },
  "orig_nbformat": 4
 },
 "nbformat": 4,
 "nbformat_minor": 2
}
