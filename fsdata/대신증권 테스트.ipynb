{
 "cells": [
  {
   "cell_type": "code",
   "execution_count": 1,
   "metadata": {},
   "outputs": [],
   "source": [
    "import win32com.client"
   ]
  },
  {
   "cell_type": "code",
   "execution_count": 2,
   "metadata": {},
   "outputs": [
    {
     "name": "stdout",
     "output_type": "stream",
     "text": [
      "0\n"
     ]
    }
   ],
   "source": [
    "# 대신증권 API 연결 확인. 1 출력시 연결 성공, 0 출력시 연결 실패\n",
    "instCpCybos = win32com.client.Dispatch('CpUtil.CpCybos')\n",
    "print(instCpCybos.IsConnect)"
   ]
  },
  {
   "cell_type": "code",
   "execution_count": 3,
   "metadata": {},
   "outputs": [
    {
     "name": "stdout",
     "output_type": "stream",
     "text": [
      "현재 상장된 거래 가능한 종목 개수 : 3948\n"
     ]
    }
   ],
   "source": [
    "# 증권시장에서 상장되어 있는 종목의 갯수 출력 -> 새로운 종목이 상장되거나 폐지됨에 따라 값이 달라진다.\n",
    "instCpStockCode = win32com.client.Dispatch(\"CpUtil.CpStockCode\")\n",
    "print('현재 상장된 거래 가능한 종목 개수 :', instCpStockCode.GetCount())"
   ]
  },
  {
   "cell_type": "code",
   "execution_count": 4,
   "metadata": {},
   "outputs": [
    {
     "name": "stdout",
     "output_type": "stream",
     "text": [
      "A000020\n"
     ]
    }
   ],
   "source": [
    "# 0번 인텍스에 위치하는 종목명 확인\n",
    "# 첫 번째 인자로 0, 1, 2 중 하나의 값을 받습니다. 첫 번째 인자의 값이 0이면 종목 코드를, 1이면 종목명을, 2면 FullCode를 리턴합니다.\n",
    "print(instCpStockCode.GetData(0, 0))"
   ]
  },
  {
   "cell_type": "code",
   "execution_count": 5,
   "metadata": {},
   "outputs": [
    {
     "name": "stdout",
     "output_type": "stream",
     "text": [
      "1번째 종목명 : 동화약품 종목 코드 : A000020\n",
      "2번째 종목명 : KR모터스 종목 코드 : A000040\n",
      "3번째 종목명 : 경방 종목 코드 : A000050\n",
      "4번째 종목명 : 삼양홀딩스 종목 코드 : A000070\n",
      "5번째 종목명 : 삼양홀딩스우 종목 코드 : A000075\n",
      "6번째 종목명 : 하이트진로 종목 코드 : A000080\n",
      "7번째 종목명 : 하이트진로2우B 종목 코드 : A000087\n",
      "8번째 종목명 : 유한양행 종목 코드 : A000100\n",
      "9번째 종목명 : 유한양행우 종목 코드 : A000105\n",
      "10번째 종목명 : CJ대한통운 종목 코드 : A000120\n",
      "11번째 종목명 : 하이트진로홀딩스 종목 코드 : A000140\n",
      "12번째 종목명 : 하이트진로홀딩스우 종목 코드 : A000145\n",
      "13번째 종목명 : 두산 종목 코드 : A000150\n",
      "14번째 종목명 : 두산우 종목 코드 : A000155\n",
      "15번째 종목명 : 두산2우B 종목 코드 : A000157\n",
      "16번째 종목명 : 성창기업지주 종목 코드 : A000180\n",
      "17번째 종목명 : DL 종목 코드 : A000210\n",
      "18번째 종목명 : DL우 종목 코드 : A000215\n",
      "19번째 종목명 : 유유제약 종목 코드 : A000220\n",
      "20번째 종목명 : 유유제약1우 종목 코드 : A000225\n",
      "21번째 종목명 : 유유제약2우B 종목 코드 : A000227\n",
      "22번째 종목명 : 일동홀딩스 종목 코드 : A000230\n",
      "23번째 종목명 : 한국앤컴퍼니 종목 코드 : A000240\n",
      "24번째 종목명 : 삼천당제약 종목 코드 : A000250\n",
      "25번째 종목명 : 기아 종목 코드 : A000270\n",
      "26번째 종목명 : 대유플러스 종목 코드 : A000300\n",
      "27번째 종목명 : 노루홀딩스 종목 코드 : A000320\n",
      "28번째 종목명 : 노루홀딩스우 종목 코드 : A000325\n",
      "29번째 종목명 : 한화손해보험 종목 코드 : A000370\n",
      "30번째 종목명 : 삼화페인트 종목 코드 : A000390\n",
      "31번째 종목명 : 롯데손해보험 종목 코드 : A000400\n",
      "32번째 종목명 : 대원강업 종목 코드 : A000430\n",
      "33번째 종목명 : 중앙에너비스 종목 코드 : A000440\n",
      "34번째 종목명 : 조선내화 종목 코드 : A000480\n",
      "35번째 종목명 : 대동 종목 코드 : A000490\n",
      "36번째 종목명 : 가온전선 종목 코드 : A000500\n",
      "37번째 종목명 : 삼일제약 종목 코드 : A000520\n",
      "38번째 종목명 : 흥국화재 종목 코드 : A000540\n",
      "39번째 종목명 : 흥국화재우 종목 코드 : A000545\n",
      "40번째 종목명 : 흥국화재2우B 종목 코드 : A000547\n",
      "41번째 종목명 : CS홀딩스 종목 코드 : A000590\n",
      "42번째 종목명 : 동아쏘시오홀딩스 종목 코드 : A000640\n",
      "43번째 종목명 : 천일고속 종목 코드 : A000650\n",
      "44번째 종목명 : SK하이닉스 종목 코드 : A000660\n",
      "45번째 종목명 : 영풍 종목 코드 : A000670\n",
      "46번째 종목명 : LS네트웍스 종목 코드 : A000680\n",
      "47번째 종목명 : 유수홀딩스 종목 코드 : A000700\n",
      "48번째 종목명 : 현대건설 종목 코드 : A000720\n",
      "49번째 종목명 : 현대건설우 종목 코드 : A000725\n",
      "50번째 종목명 : 이화산업 종목 코드 : A000760\n",
      "51번째 종목명 : 경남기업 종목 코드 : A000800\n",
      "52번째 종목명 : 삼성화재 종목 코드 : A000810\n",
      "53번째 종목명 : 삼성화재우 종목 코드 : A000815\n",
      "54번째 종목명 : 화천기공 종목 코드 : A000850\n",
      "55번째 종목명 : 강남제비스코 종목 코드 : A000860\n",
      "56번째 종목명 : 한화 종목 코드 : A000880\n",
      "57번째 종목명 : 한화우 종목 코드 : A000885\n",
      "58번째 종목명 : 한화3우B 종목 코드 : A00088K\n",
      "59번째 종목명 : 보해양조 종목 코드 : A000890\n",
      "60번째 종목명 : 유니온 종목 코드 : A000910\n",
      "61번째 종목명 : 전방 종목 코드 : A000950\n",
      "62번째 종목명 : 한국주철관 종목 코드 : A000970\n",
      "63번째 종목명 : DB하이텍 종목 코드 : A000990\n",
      "64번째 종목명 : DB하이텍1우 종목 코드 : A000995\n",
      "65번째 종목명 : 신라섬유 종목 코드 : A001000\n",
      "66번째 종목명 : 페이퍼코리아 종목 코드 : A001020\n",
      "67번째 종목명 : CJ 종목 코드 : A001040\n",
      "68번째 종목명 : CJ우 종목 코드 : A001045\n",
      "69번째 종목명 : CJ4우(전환) 종목 코드 : A00104K\n",
      "70번째 종목명 : JW중외제약 종목 코드 : A001060\n",
      "71번째 종목명 : JW중외제약우 종목 코드 : A001065\n",
      "72번째 종목명 : JW중외제약2우B 종목 코드 : A001067\n",
      "73번째 종목명 : 대한방직 종목 코드 : A001070\n",
      "74번째 종목명 : 만호제강 종목 코드 : A001080\n",
      "75번째 종목명 : LX인터내셔널 종목 코드 : A001120\n",
      "76번째 종목명 : 대한제분 종목 코드 : A001130\n",
      "77번째 종목명 : 국보 종목 코드 : A001140\n",
      "78번째 종목명 : 유진투자증권 종목 코드 : A001200\n",
      "79번째 종목명 : 금호전기 종목 코드 : A001210\n",
      "80번째 종목명 : 동국제강 종목 코드 : A001230\n",
      "81번째 종목명 : GS글로벌 종목 코드 : A001250\n",
      "82번째 종목명 : 남광토건 종목 코드 : A001260\n",
      "83번째 종목명 : 부국증권 종목 코드 : A001270\n",
      "84번째 종목명 : 부국증권우 종목 코드 : A001275\n",
      "85번째 종목명 : 상상인증권 종목 코드 : A001290\n",
      "86번째 종목명 : 백광산업 종목 코드 : A001340\n",
      "87번째 종목명 : 삼성제약 종목 코드 : A001360\n",
      "88번째 종목명 : SG글로벌 종목 코드 : A001380\n",
      "89번째 종목명 : KG케미칼 종목 코드 : A001390\n",
      "90번째 종목명 : 태원물산 종목 코드 : A001420\n",
      "91번째 종목명 : 세아베스틸지주 종목 코드 : A001430\n",
      "92번째 종목명 : 대한전선 종목 코드 : A001440\n",
      "93번째 종목명 : 현대해상 종목 코드 : A001450\n",
      "94번째 종목명 : BYC 종목 코드 : A001460\n",
      "95번째 종목명 : BYC우 종목 코드 : A001465\n",
      "96번째 종목명 : 삼부토건 종목 코드 : A001470\n",
      "97번째 종목명 : 천지산업 종목 코드 : A001490\n",
      "98번째 종목명 : 현대차증권 종목 코드 : A001500\n",
      "99번째 종목명 : SK증권 종목 코드 : A001510\n",
      "100번째 종목명 : SK증권우 종목 코드 : A001515\n"
     ]
    }
   ],
   "source": [
    "# 20개의 종목 이름과 종목 코드 출력하기\n",
    "for i in range(0,100):\n",
    "    print(str(i+1)+'번째 종목명 : '+instCpStockCode.GetData(1, i)+' 종목 코드 : '+ instCpStockCode.GetData(0, i))"
   ]
  },
  {
   "cell_type": "code",
   "execution_count": 6,
   "metadata": {},
   "outputs": [
    {
     "name": "stdout",
     "output_type": "stream",
     "text": [
      "상장된 총 종목 갯수 : 3948\n",
      "종목명 : NAVER   종목 코드 : A035420\n"
     ]
    }
   ],
   "source": [
    "# 특정 종목의 종목 코드를 출력하기\n",
    "stockNum = instCpStockCode.GetCount()\n",
    "print('상장된 총 종목 갯수 :', stockNum)\n",
    "\n",
    "for i in range(stockNum):\n",
    "    if instCpStockCode.GetData(1, i) == 'NAVER':\n",
    "        print('종목명 : '+instCpStockCode.GetData(1, i)+'   종목 코드 : '+ instCpStockCode.GetData(0, i))"
   ]
  },
  {
   "cell_type": "code",
   "execution_count": 7,
   "metadata": {},
   "outputs": [],
   "source": [
    "# 0 -> 종목코드 : 요청할 종목의 종목 코드\n",
    "# 1 -> 요청구분 : 1은 기간으로 요청, 2는 갯수로 요청\n",
    "# 2 -> 요청 종료일 : YYYYMMDD 형식\n",
    "# 3 -> 요청 시작일 : YYYYMMDD 형식\n",
    "# 4 -> 요청개수 : 요청할 데이터의 개수\n",
    "# 5 -> 필드 = 0: 날짜, 1:시간, 2:시가, 3: 고가, 4: 저가, 5: 종가, 6: 전일대비, 8: 거래량, 9: 거래대금, 10: 누적체결매도수량\n",
    "# 6 -> 차트 구분 = D: 일, W: 주, m: 분, T: 틱\n",
    "# 9 -> 수정주가 = 0: 무수정주가, 1: 수정주가"
   ]
  },
  {
   "cell_type": "code",
   "execution_count": 8,
   "metadata": {},
   "outputs": [
    {
     "ename": "com_error",
     "evalue": "(-2147352567, '예외가 발생했습니다.', (0, None, 'U-CYBOS가 서버에 접속되어 있지 않습니다.', None, 0, -2147483638), None)",
     "output_type": "error",
     "traceback": [
      "\u001b[1;31m---------------------------------------------------------------------------\u001b[0m",
      "\u001b[1;31mcom_error\u001b[0m                                 Traceback (most recent call last)",
      "Cell \u001b[1;32mIn[8], line 12\u001b[0m\n\u001b[0;32m      9\u001b[0m instStockChart\u001b[39m.\u001b[39mSetInputValue(\u001b[39m6\u001b[39m, \u001b[39mord\u001b[39m(\u001b[39m'\u001b[39m\u001b[39mm\u001b[39m\u001b[39m'\u001b[39m))               \u001b[39m# 6은 차트 구분 지정, ord('D')는 일 단위 데이터를 가져오기 위해 지정\u001b[39;00m\n\u001b[0;32m     10\u001b[0m instStockChart\u001b[39m.\u001b[39mSetInputValue(\u001b[39m9\u001b[39m, \u001b[39mord\u001b[39m(\u001b[39m'\u001b[39m\u001b[39m1\u001b[39m\u001b[39m'\u001b[39m))               \u001b[39m# 9 수정주가 지정, 1을 입력하여 수정 주가를 가져온다.\u001b[39;00m\n\u001b[1;32m---> 12\u001b[0m instStockChart\u001b[39m.\u001b[39;49mBlockRequest()                           \u001b[39m# BlockRequest 메서드를 사용하여 서버에 데이터를 요청하면, 요청 받은 서버가 해당 데이터를 준비하여 사용자에게 reply한다.\u001b[39;00m\n\u001b[0;32m     14\u001b[0m                                                         \u001b[39m# 서버로부터 데이터를 얻어 올때는 GetHeaderValue와 GetDataValue 메서드를 사용한다.\u001b[39;00m\n\u001b[0;32m     15\u001b[0m numField \u001b[39m=\u001b[39m instStockChart\u001b[39m.\u001b[39mGetHeaderValue(\u001b[39m1\u001b[39m)             \u001b[39m# instStockChart.GetHeaderValue(1) -> 몇개의 필드를 가져왔는지 확인. 1을 입력한 이유\u001b[39;00m\n",
      "File \u001b[1;32m<COMObject CpSysDib.StockChart>:2\u001b[0m, in \u001b[0;36mBlockRequest\u001b[1;34m(self)\u001b[0m\n",
      "\u001b[1;31mcom_error\u001b[0m: (-2147352567, '예외가 발생했습니다.', (0, None, 'U-CYBOS가 서버에 접속되어 있지 않습니다.', None, 0, -2147483638), None)"
     ]
    }
   ],
   "source": [
    "instStockChart = win32com.client.Dispatch(\"CpSysDib.StockChart\") # 특정 종목의 주가 데이터 가져오기\n",
    "\n",
    "# SetInputValue(첫번째, 두번째)메서드 설명 -> 첫번째 인자 : 입력 데이터 타입, 두번째 인자 : 입력 데이터 값을 의미\n",
    "\n",
    "instStockChart.SetInputValue(0, \"A035420\")              # 0은 종목코드 타입을 지정하고, A035420는 특정 종목 코드를 입력한다.\n",
    "instStockChart.SetInputValue(1, ord('2'))               # 1은 기간으로 요청 지정하고, 문자열 그대로 입력하는 것이 아닌 ord()를 사용하여 아스키코드로 변환\n",
    "instStockChart.SetInputValue(4, 268)                     # 4는 요청 개수 지정, 10은 최근 거래일로부터 10일치에 해당하는 데이터 가져오기\n",
    "instStockChart.SetInputValue(5, (0,1,2,3,4,5,6,8,9,10)) # 5는 종목의 필드지정, 뒤에 오는 값은 가져오기 싶은 필드 지정(튜플 형태로 전달하면 된다.)\n",
    "instStockChart.SetInputValue(6, ord('m'))               # 6은 차트 구분 지정, ord('D')는 일 단위 데이터를 가져오기 위해 지정\n",
    "instStockChart.SetInputValue(9, ord('1'))               # 9 수정주가 지정, 1을 입력하여 수정 주가를 가져온다.\n",
    "\n",
    "instStockChart.BlockRequest()                           # BlockRequest 메서드를 사용하여 서버에 데이터를 요청하면, 요청 받은 서버가 해당 데이터를 준비하여 사용자에게 reply한다.\n",
    "\n",
    "                                                        # 서버로부터 데이터를 얻어 올때는 GetHeaderValue와 GetDataValue 메서드를 사용한다.\n",
    "numField = instStockChart.GetHeaderValue(1)             # instStockChart.GetHeaderValue(1) -> 몇개의 필드를 가져왔는지 확인. 1을 입력한 이유\n",
    "numData = instStockChart.GetHeaderValue(3)              # instStockChart.GetHeaderValue(3) -> 몇개의 데이터 개수를 가져왔는지 확인. 3을 입력한 이유\n",
    "                                                        # instStockChart.SetInputValue(5, (0,1,2,3,4,5,6,8,9,10)) -> 10개의 필드를 요청했기 때문에 numField는 10을 반환할 것이다.\n",
    "                                                        # instStockChart.SetInputValue(4, 10) -> 10일치 데이터를 요청했기 때문에 numData는 10을 반환할 것이다.\n",
    "                                                        \n",
    "\n",
    "print('날짜 시간 시가 고가 저가 종가 전일대비 거래량 거래대금 누적체결매도수량')\n",
    "for i in range(numData):\n",
    "    for j in range(numField):\n",
    "        print(instStockChart.GetDataValue(j, i), end=' ')\n",
    "    print('')"
   ]
  },
  {
   "cell_type": "code",
   "execution_count": null,
   "metadata": {},
   "outputs": [
    {
     "name": "stdout",
     "output_type": "stream",
     "text": [
      "날짜 시간 시가 고가 저가 종가 전일대비 거래량 거래대금 누적체결매도수량\n",
      "20021111 0 2094 2222 2094 2152 52 8397557 18154000000 0 \n",
      "20021108 0 2091 2120 2060 2099 -42 5249619 10939000000 0 \n",
      "20021107 0 2125 2243 2120 2141 3 9096491 19818000000 0 \n",
      "20021106 0 2220 2235 2089 2138 -47 9724497 20922000000 0 \n",
      "20021105 0 2178 2293 2178 2186 -3 11955267 26745000000 0 \n",
      "20021104 0 2283 2298 2133 2188 -115 13190221 28952000000 0 \n",
      "20021101 0 2519 2598 2214 2304 -152 14306854 34432000000 0 \n",
      "20021031 0 2624 2687 2396 2456 -129 25171310 63979000000 0 \n",
      "20021030 0 2584 2584 2556 2584 275 16267327 42030000000 0 \n"
     ]
    }
   ],
   "source": [
    "# 네이버 종목의 특정 기간 주가 데이터 가져오기\n",
    "\n",
    "instStockChart.SetInputValue(0, \"A035420\")\n",
    "instStockChart.SetInputValue(1, ord('1')) # ord('1')로 지정해 특정 기간 가져오기\n",
    "instStockChart.SetInputValue(2, 20021111) # 2020년 1월 31일까지\n",
    "instStockChart.SetInputValue(3, 20021030) # 2020년 1월 20일부터\n",
    "instStockChart.SetInputValue(4, 10)\n",
    "instStockChart.SetInputValue(5, (0,1,2,3,4,5,6,8,9,10))\n",
    "instStockChart.SetInputValue(6, ord('D'))\n",
    "instStockChart.SetInputValue(9, ord('1'))\n",
    "\n",
    "instStockChart.BlockRequest()\n",
    "\n",
    "numField = instStockChart.GetHeaderValue(1)\n",
    "numData = instStockChart.GetHeaderValue(3)\n",
    "\n",
    "print('날짜 시간 시가 고가 저가 종가 전일대비 거래량 거래대금 누적체결매도수량')\n",
    "for i in range(numData):\n",
    "    for j in range(numField):\n",
    "        print(instStockChart.GetDataValue(j, i), end=' ')\n",
    "    print('')"
   ]
  },
  {
   "attachments": {},
   "cell_type": "markdown",
   "metadata": {},
   "source": []
  }
 ],
 "metadata": {
  "kernelspec": {
   "display_name": "dl-dev-gpu",
   "language": "python",
   "name": "python3"
  },
  "language_info": {
   "codemirror_mode": {
    "name": "ipython",
    "version": 3
   },
   "file_extension": ".py",
   "mimetype": "text/x-python",
   "name": "python",
   "nbconvert_exporter": "python",
   "pygments_lexer": "ipython3",
   "version": "3.10.4"
  },
  "orig_nbformat": 4
 },
 "nbformat": 4,
 "nbformat_minor": 2
}
