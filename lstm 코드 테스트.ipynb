{
 "cells": [
  {
   "cell_type": "code",
   "execution_count": 42,
   "metadata": {},
   "outputs": [],
   "source": [
    "import numpy as np\n",
    "import pandas as pd\n",
    "import matplotlib.pyplot as plt\n",
    "%matplotlib inline\n",
    "from tensorflow.keras.models import Sequential\n",
    "from tensorflow.keras.layers import LSTM, Dense\n",
    "from sklearn.preprocessing import MinMaxScaler\n",
    "from tensorflow.keras.callbacks import EarlyStopping, ModelCheckpoint"
   ]
  },
  {
   "cell_type": "code",
   "execution_count": 70,
   "metadata": {},
   "outputs": [
    {
     "name": "stdout",
     "output_type": "stream",
     "text": [
      "WARNING:tensorflow:Layer lstm_9 will not use cuDNN kernels since it doesn't meet the criteria. It will use a generic GPU kernel as fallback when running on GPU.\n",
      "Epoch 1/10\n",
      "21/21 [==============================] - 7s 183ms/step - loss: 84205192.0000 - val_loss: 66759828.0000\n",
      "Epoch 2/10\n",
      "21/21 [==============================] - 3s 156ms/step - loss: 47096380.0000 - val_loss: 52754552.0000\n",
      "Epoch 3/10\n",
      "21/21 [==============================] - 4s 177ms/step - loss: 22408354.0000 - val_loss: 5797186.5000\n",
      "Epoch 4/10\n",
      "21/21 [==============================] - 3s 159ms/step - loss: 3447883.2500 - val_loss: 301902.0938\n",
      "Epoch 5/10\n",
      "21/21 [==============================] - 3s 146ms/step - loss: 536054.6875 - val_loss: 382702.7500\n",
      "Epoch 6/10\n",
      "21/21 [==============================] - 3s 155ms/step - loss: 671472.2500 - val_loss: 115579.8359\n",
      "Epoch 7/10\n",
      "21/21 [==============================] - 3s 151ms/step - loss: 139008.2500 - val_loss: 146597.2188\n",
      "Epoch 8/10\n",
      "21/21 [==============================] - 3s 149ms/step - loss: 179345.1719 - val_loss: 96555.8672\n",
      "Epoch 9/10\n",
      "21/21 [==============================] - 3s 159ms/step - loss: 195238.6562 - val_loss: 89383.9922\n",
      "Epoch 10/10\n",
      "21/21 [==============================] - 3s 150ms/step - loss: 388151.8750 - val_loss: 84603.9453\n",
      "4/4 [==============================] - 1s 25ms/step\n"
     ]
    },
    {
     "data": {
      "image/png": "[encoded data removed]",
      "text/plain": [
       "<Figure size 640x480 with 1 Axes>"
      ]
     },
     "metadata": {},
     "output_type": "display_data"
    }
   ],
   "source": [
    "df = pd.read_csv('./lstm 학습 데이터.csv', encoding='euc-kr')\n",
    "data = df.copy()\n",
    "data = data[['시가','고가','저가','종가','거래량','SMA5','SMA20','UPPER','MAVG','LOWER','RSI','MACD','AROONUP','AROONDN','NEWS','LABEL']]\n",
    "data['LABEL'] = data['LABEL'].astype('int64')\n",
    "# mms = MinMaxScaler()\n",
    "# mms.fit(data)\n",
    "# mmsResult = mms.transform(data)\n",
    "# dataCh = pd.DataFrame(columns=data.columns, data=mmsResult)\n",
    "X = np.array(data[['시가','고가','저가','종가','거래량','SMA5','SMA20','UPPER','MAVG','LOWER','RSI','MACD','AROONUP','AROONDN','NEWS']][:1000])\n",
    "y = np.array(data['LABEL'][:1000])\n",
    "\n",
    "# 데이터 분할 (학습 데이터와 테스트 데이터)\n",
    "train_size = int(len(X) * 0.88)\n",
    "X_train, X_test = X[:train_size], X[train_size:]\n",
    "y_train, y_test = y[:train_size], y[train_size:]\n",
    "\n",
    "# LSTM 모델 구성\n",
    "model = Sequential()\n",
    "model.add(LSTM(64, activation='relu', input_shape=(15, 1)))\n",
    "model.add(Dense(1))\n",
    "model.compile(optimizer='adam', loss='mse')\n",
    "\n",
    "early_stopping_callback = EarlyStopping(monitor='val_loss', patience=10)\n",
    "modelpath=\"./lstm.hdf5\"\n",
    "checkpointer = ModelCheckpoint(filepath=modelpath, monitor='val_loss', verbose=0, save_best_only=True)\n",
    "\n",
    "# 모델 학습\n",
    "model.fit(X_train, y_train, validation_split=0.25, epochs=10, batch_size=32, callbacks=[early_stopping_callback, checkpointer])\n",
    "\n",
    "# 테스트 데이터로 예측 수행\n",
    "y_pred = model.predict(X_test)\n",
    "\n",
    "# 예측 결과 시각화\n",
    "plt.plot(y_test, label='True')\n",
    "plt.plot(y_pred, label='Predicted')\n",
    "plt.legend()\n",
    "plt.show()"
   ]
  },
  {
   "cell_type": "code",
   "execution_count": 71,
   "metadata": {},
   "outputs": [
    {
     "data": {
      "text/plain": [
       "array([2, 1, 0, 1, 0, 1, 2, 2, 1, 2, 1, 2, 0, 2, 1, 2, 1, 0, 1, 0, 2, 1,\n",
       "       2, 0, 0, 1, 0, 0, 1, 1, 0, 2, 1, 2, 1, 0, 0, 2, 1, 2, 0, 1, 2, 2,\n",
       "       2, 2, 1, 1, 2, 1, 2, 1, 2, 1, 0, 2, 0, 0, 1, 0, 1, 2, 2, 1, 2, 2,\n",
       "       1, 0, 2, 0, 1, 2, 2, 1, 0, 1, 0, 0, 2, 1, 0, 1, 2, 1, 0, 2, 2, 0,\n",
       "       1, 2, 0, 1, 2, 1, 1, 2, 0, 0, 0, 2, 1, 2, 2, 1, 2, 0, 1, 2, 2, 1,\n",
       "       0, 2, 0, 1, 2, 1, 0, 2, 1, 2], dtype=int64)"
      ]
     },
     "execution_count": 71,
     "metadata": {},
     "output_type": "execute_result"
    }
   ],
   "source": [
    "y_test"
   ]
  },
  {
   "cell_type": "code",
   "execution_count": 87,
   "metadata": {},
   "outputs": [
    {
     "data": {
      "text/plain": [
       "-1.633449"
      ]
     },
     "execution_count": 87,
     "metadata": {},
     "output_type": "execute_result"
    }
   ],
   "source": [
    "y_pred[118][0]"
   ]
  },
  {
   "cell_type": "code",
   "execution_count": 10,
   "metadata": {},
   "outputs": [],
   "source": [
    "# window_size는 LSTM 모델에서 사용되는 입력 윈도우(window)의 크기를 의미합니다.\n",
    "\n",
    "# LSTM 모델은 순차적인 데이터를 다루기 위해 시계열 데이터를 고려합니다.\n",
    "# 입력 데이터를 이전의 연속된 값을 포함하는 윈도우로 구성하여 모델에 입력으로 제공합니다.\n",
    "# window_size는 이 윈도우의 크기를 결정합니다.\n",
    "\n",
    "# 예를 들어, window_size가 10이라면, LSTM 모델은 각각의 입력 시점에서 이전 10개의\n",
    "# 연속된 값을 입력으로 받습니다. 이전 10개의 값은 시계열 데이터의 특정 구간을 나타내며,\n",
    "# 모델은 이를 바탕으로 다음 값을 예측하게 됩니다.\n",
    "\n",
    "# window_size의 선택은 데이터의 특성과 예측하고자 하는 시간 단위에 따라 달라질 수 있습니다.\n",
    "# 작은 window_size는 더 짧은 기간의 패턴을 고려하고 예측을 수행하지만, 장기적인 패턴을 놓칠 수 있습니다.\n",
    "# 큰 window_size는 더 장기적인 패턴을 고려할 수 있지만, 더 많은 데이터를 필요로 하며 모델의 복잡성이 증가할 수 있습니다.\n",
    "\n",
    "# 적절한 window_size를 선택하기 위해서는 데이터의 특성과 문제의 복잡도를 고려하며,\n",
    "# 실험과 조정을 통해 최적의 크기를 찾아내는 것이 일반적입니다."
   ]
  }
 ],
 "metadata": {
  "kernelspec": {
   "display_name": "dl-dev-gpu",
   "language": "python",
   "name": "python3"
  },
  "language_info": {
   "codemirror_mode": {
    "name": "ipython",
    "version": 3
   },
   "file_extension": ".py",
   "mimetype": "text/x-python",
   "name": "python",
   "nbconvert_exporter": "python",
   "pygments_lexer": "ipython3",
   "version": "3.10.11"
  },
  "orig_nbformat": 4
 },
 "nbformat": 4,
 "nbformat_minor": 2
}
