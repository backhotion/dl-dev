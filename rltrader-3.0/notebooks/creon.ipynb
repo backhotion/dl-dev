{
 "cells": [
  {
   "cell_type": "code",
   "execution_count": null,
   "metadata": {},
   "outputs": [],
   "source": [
    "import win32com.client\n",
    "import pandas as pd\n",
    "\n",
    "\n",
    "class Creon:\n",
    "    def __init__(self):\n",
    "        self.obj_CpCodeMgr = win32com.client.Dispatch('CpUtil.CpCodeMgr')\n",
    "        self.obj_CpCybos = win32com.client.Dispatch('CpUtil.CpCybos')\n",
    "        self.obj_StockChart = win32com.client.Dispatch('CpSysDib.StockChart')\n",
    "\n",
    "    def creon_7400_주식차트조회(self, code, date_from, date_to):\n",
    "        b_connected = self.obj_CpCybos.IsConnect\n",
    "        if b_connected == 0:\n",
    "            print(\"연결 실패\")\n",
    "            return None\n",
    "\n",
    "        list_field_key = [0, 1, 2, 3, 4, 5, 8]\n",
    "        list_field_name = ['date', 'time', 'open', 'high', 'low', 'close', 'volume']\n",
    "        dict_chart = {name: [] for name in list_field_name}\n",
    "\n",
    "        self.obj_StockChart.SetInputValue(0, 'A'+code)\n",
    "        self.obj_StockChart.SetInputValue(1, ord('1'))  # 0: 개수, 1: 기간\n",
    "        self.obj_StockChart.SetInputValue(2, date_to)  # 종료일\n",
    "        self.obj_StockChart.SetInputValue(3, date_from)  # 시작일\n",
    "        self.obj_StockChart.SetInputValue(5, list_field_key)  # 필드\n",
    "        self.obj_StockChart.SetInputValue(6, ord('D'))  # 'D', 'W', 'M', 'm', 'T'\n",
    "        self.obj_StockChart.BlockRequest()\n",
    "\n",
    "        status = self.obj_StockChart.GetDibStatus()\n",
    "        msg = self.obj_StockChart.GetDibMsg1()\n",
    "        print(\"통신상태: {} {}\".format(status, msg))\n",
    "        if status != 0:\n",
    "            return None\n",
    "\n",
    "        cnt = self.obj_StockChart.GetHeaderValue(3)  # 수신개수\n",
    "        for i in range(cnt):\n",
    "            dict_item = (\n",
    "                {name: self.obj_StockChart.GetDataValue(pos, i) \n",
    "                for pos, name in zip(range(len(list_field_name)), list_field_name)}\n",
    "            )\n",
    "            for k, v in dict_item.items():\n",
    "                dict_chart[k].append(v)\n",
    "\n",
    "        print(\"차트: {} {}\".format(cnt, dict_chart))\n",
    "        return pd.DataFrame(dict_chart, columns=list_field_name)\n",
    "\n",
    "\n",
    "creon = Creon()\n",
    "print(creon.creon_7400_주식차트조회('035420', 20150101, 20171231))"
   ]
  }
 ],
 "metadata": {
  "language_info": {
   "name": "python"
  },
  "orig_nbformat": 4
 },
 "nbformat": 4,
 "nbformat_minor": 2
}
